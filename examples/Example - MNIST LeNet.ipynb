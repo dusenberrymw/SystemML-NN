{
 "cells": [
  {
   "cell_type": "markdown",
   "metadata": {},
   "source": [
    "## Quick Setup"
   ]
  },
  {
   "cell_type": "code",
   "execution_count": null,
   "metadata": {
    "collapsed": false
   },
   "outputs": [],
   "source": [
    "# Add SystemML PySpark API file.\n",
    "sc.addPyFile(\"https://raw.githubusercontent.com/apache/incubator-systemml/3d5f9b11741f6d6ecc6af7cbaa1069cde32be838/src/main/java/org/apache/sysml/api/python/SystemML.py\")\n",
    "\n",
    "# Create a SystemML MLContext object\n",
    "from SystemML import MLContext\n",
    "ml = MLContext(sc)"
   ]
  },
  {
   "cell_type": "markdown",
   "metadata": {},
   "source": [
    "## Download Data - MNIST"
   ]
  },
  {
   "cell_type": "markdown",
   "metadata": {},
   "source": [
    "The MNIST dataset contains labeled images of handwritten digits, where each example is a 28x28 pixel image of grayscale values in the range [0,255] stretched out as 784 pixels, and each label is one of 10 possible digits in [0,9].  Here, we download 60,000 training examples, and 10,000 test examples, where the format is \"label, pixel_1, pixel_2, ..., pixel_n\"."
   ]
  },
  {
   "cell_type": "code",
   "execution_count": null,
   "metadata": {
    "collapsed": true
   },
   "outputs": [],
   "source": [
    "%%sh\n",
    "mkdir -p data/mnist/\n",
    "cd data/mnist/\n",
    "curl -O http://pjreddie.com/media/files/mnist_train.csv\n",
    "curl -O http://pjreddie.com/media/files/mnist_test.csv"
   ]
  },
  {
   "cell_type": "markdown",
   "metadata": {},
   "source": [
    "## SystemML \"LeNet\" Neural Network"
   ]
  },
  {
   "cell_type": "markdown",
   "metadata": {},
   "source": [
    "### 1. Train"
   ]
  },
  {
   "cell_type": "code",
   "execution_count": null,
   "metadata": {
    "collapsed": false
   },
   "outputs": [],
   "source": [
    "script = \"\"\"\n",
    "source(\"mnist_lenet.dml\") as mnist_lenet\n",
    "\n",
    "# Read training data\n",
    "data = read($data, format=\"csv\")\n",
    "n = nrow(data)\n",
    "C = $C\n",
    "Hin = $Hin\n",
    "Win = $Win\n",
    "\n",
    "# Extract images and labels\n",
    "images = data[,2:ncol(data)]\n",
    "labels = data[,1]\n",
    "\n",
    "# Scale images to [-1,1], and one-hot encode the labels\n",
    "images = (images / 255.0) * 2 - 1\n",
    "labels = table(seq(1, n), labels+1, n, 10)\n",
    "\n",
    "# Split into training (55,000 examples) and validation (5,000 examples)\n",
    "X = images[5001:nrow(images),]\n",
    "X_val = images[1:5000,]\n",
    "y = labels[5001:nrow(images),]\n",
    "y_val = labels[1:5000,]\n",
    "\n",
    "# Train\n",
    "[W1, b1, W2, b2, W3, b3, W4, b4] = mnist_lenet::train(X, y, X_val, y_val, C, Hin, Win)\n",
    "\n",
    "# Write model out\n",
    "write(W1, $W1out)\n",
    "write(b1, $b1out)\n",
    "write(W2, $W2out)\n",
    "write(b2, $b2out)\n",
    "write(W3, $W3out)\n",
    "write(b3, $b3out)\n",
    "write(W4, $W4out)\n",
    "write(b4, $b4out)\n",
    "\n",
    "print(\"\")\n",
    "print(\"\")\n",
    "\"\"\"\n",
    "ml.reset()\n",
    "out = ml.executeScript(script, {\"data\": \"data/mnist/mnist_train.csv\",\n",
    "                                \"C\": 1, \"Hin\": 28, \"Win\": 28},\n",
    "                       outputs=[\"W1\", \"b1\", \"W2\", \"b2\", \"W3\", \"b3\", \"W4\", \"b4\"])"
   ]
  },
  {
   "cell_type": "markdown",
   "metadata": {},
   "source": [
    "### 2. Extract model from SystemML back into PySpark"
   ]
  },
  {
   "cell_type": "code",
   "execution_count": null,
   "metadata": {
    "collapsed": false
   },
   "outputs": [],
   "source": [
    "# Extract variables\n",
    "W1 = out.getDF(sqlContext, \"W1\").sort(\"ID\").drop(\"ID\")\n",
    "b1 = out.getDF(sqlContext, \"b1\").sort(\"ID\").drop(\"ID\")\n",
    "W2 = out.getDF(sqlContext, \"W2\").sort(\"ID\").drop(\"ID\")\n",
    "b2 = out.getDF(sqlContext, \"b2\").sort(\"ID\").drop(\"ID\")\n",
    "W3 = out.getDF(sqlContext, \"W3\").sort(\"ID\").drop(\"ID\")\n",
    "b3 = out.getDF(sqlContext, \"b3\").sort(\"ID\").drop(\"ID\")\n",
    "W4 = out.getDF(sqlContext, \"W4\").sort(\"ID\").drop(\"ID\")\n",
    "b4 = out.getDF(sqlContext, \"b4\").sort(\"ID\").drop(\"ID\")"
   ]
  },
  {
   "cell_type": "markdown",
   "metadata": {},
   "source": [
    "### 3. Compute Test Accuracy"
   ]
  },
  {
   "cell_type": "code",
   "execution_count": null,
   "metadata": {
    "collapsed": false
   },
   "outputs": [],
   "source": [
    "script = \"\"\"\n",
    "source(\"mnist_lenet.dml\") as mnist_lenet\n",
    "\n",
    "# Read test data\n",
    "data = read($data, format=\"csv\")\n",
    "n = nrow(data)\n",
    "C = $C\n",
    "Hin = $Hin\n",
    "Win = $Win\n",
    "\n",
    "# Extract images and labels\n",
    "X_test = data[,2:ncol(data)]\n",
    "y_test = data[,1]\n",
    "\n",
    "# Scale images to [-1,1], and one-hot encode the labels\n",
    "X_test = (X_test / 255.0) * 2 - 1\n",
    "y_test = table(seq(1, n), y_test+1, n, 10)\n",
    "\n",
    "# Read model coefficients\n",
    "W1 = read($W1)\n",
    "b1 = read($b1)\n",
    "W2 = read($W2)\n",
    "b2 = read($b2)\n",
    "W3 = read($W3)\n",
    "b3 = read($b3)\n",
    "W4 = read($W4)\n",
    "b4 = read($b4)\n",
    "\n",
    "# Eval on test set\n",
    "probs = mnist_lenet::predict(X_test, C, Hin, Win, W1, b1, W2, b2, W3, b3, W4, b4)\n",
    "[loss, accuracy] = mnist_lenet::eval(probs, y_test)\n",
    "\n",
    "print(\"Test Accuracy: \" + accuracy)\n",
    "\n",
    "print(\"\")\n",
    "print(\"\")\n",
    "\"\"\"\n",
    "ml.reset()\n",
    "ml.executeScript(script, {\"data\": \"data/mnist/mnist_train.csv\",\n",
    "                          \"C\": 1, \"Hin\": 28, \"Win\": 28,\n",
    "                          \"W1\": W1, \"b1\": b1,\n",
    "                          \"W2\": W2, \"b2\": b2,\n",
    "                          \"W3\": W3, \"b3\": b3,\n",
    "                          \"W4\": W4, \"b4\": b4})"
   ]
  }
 ],
 "metadata": {
  "kernelspec": {
   "display_name": "Python 2",
   "language": "python",
   "name": "python2"
  },
  "language_info": {
   "codemirror_mode": {
    "name": "ipython",
    "version": 2
   },
   "file_extension": ".py",
   "mimetype": "text/x-python",
   "name": "python",
   "nbconvert_exporter": "python",
   "pygments_lexer": "ipython2",
   "version": "2.7.12"
  }
 },
 "nbformat": 4,
 "nbformat_minor": 0
}
