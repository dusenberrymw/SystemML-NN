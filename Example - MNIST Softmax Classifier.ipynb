{
 "cells": [
  {
   "cell_type": "markdown",
   "metadata": {},
   "source": [
    "## Quick Setup"
   ]
  },
  {
   "cell_type": "code",
   "execution_count": null,
   "metadata": {
    "collapsed": false
   },
   "outputs": [],
   "source": [
    "import numpy as np\n",
    "\n",
    "# Add SystemML PySpark API file.\n",
    "sc.addPyFile(\"https://raw.githubusercontent.com/apache/incubator-systemml/3d5f9b11741f6d6ecc6af7cbaa1069cde32be838/src/main/java/org/apache/sysml/api/python/SystemML.py\")\n",
    "\n",
    "# Create a SystemML MLContext object\n",
    "from SystemML import MLContext\n",
    "ml = MLContext(sc)"
   ]
  },
  {
   "cell_type": "markdown",
   "metadata": {},
   "source": [
    "## Download Data - MNIST"
   ]
  },
  {
   "cell_type": "markdown",
   "metadata": {},
   "source": [
    "The MNIST dataset contains labeled images of handwritten digits, where each example is a 28x28 pixel image of grayscale values scaled to [0,1] and stretched out as 784 pixels, and each label is a one-hot encoding over 10 possible digits.  Here, we use TensorFlow's API for accessing the data, and retrieve 50,000 training examples, 5,000 validation examples, and 10,000 test examples.  [Note: TensorFlow can easily be installed via [these instructions](https://www.tensorflow.org/versions/r0.9/get_started/os_setup.html#pip-installation).]"
   ]
  },
  {
   "cell_type": "code",
   "execution_count": null,
   "metadata": {
    "collapsed": true
   },
   "outputs": [],
   "source": [
    "%%sh\n",
    "mkdir -p examples/data/mnist/"
   ]
  },
  {
   "cell_type": "code",
   "execution_count": null,
   "metadata": {
    "collapsed": false,
    "scrolled": false
   },
   "outputs": [],
   "source": [
    "import tensorflow as tf\n",
    "from tensorflow.examples.tutorials.mnist import input_data\n",
    "\n",
    "# Get MNIST data\n",
    "mnist = input_data.read_data_sets('MNIST_data', one_hot=True)\n",
    "\n",
    "# Save to CSV\n",
    "np.savetxt(\"examples/data/mnist/train_images.csv\", mnist.train.images, delimiter=\",\")\n",
    "np.savetxt(\"examples/data/mnist/train_labels.csv\", mnist.train.labels, delimiter=\",\")\n",
    "np.savetxt(\"examples/data/mnist/val_images.csv\", mnist.validation.images, delimiter=\",\")\n",
    "np.savetxt(\"examples/data/mnist/val_labels.csv\", mnist.validation.labels, delimiter=\",\")\n",
    "np.savetxt(\"examples/data/mnist/test_images.csv\", mnist.test.images, delimiter=\",\")\n",
    "np.savetxt(\"examples/data/mnist/test_labels.csv\", mnist.test.labels, delimiter=\",\")"
   ]
  },
  {
   "cell_type": "markdown",
   "metadata": {},
   "source": [
    "## SystemML Softmax Model"
   ]
  },
  {
   "cell_type": "markdown",
   "metadata": {},
   "source": [
    "### 1. Train"
   ]
  },
  {
   "cell_type": "code",
   "execution_count": null,
   "metadata": {
    "collapsed": false
   },
   "outputs": [],
   "source": [
    "script = \"\"\"\n",
    "source(\"examples/mnist_softmax.dml\") as mnist_softmax\n",
    "\n",
    "# Read data\n",
    "X = read($X, format=\"csv\")\n",
    "y = read($y, format=\"csv\")\n",
    "\n",
    "X_val = read($X_val, format=\"csv\")\n",
    "y_val = read($y_val, format=\"csv\")\n",
    "\n",
    "# Train\n",
    "[W, b] = mnist_softmax::train(X, y, X_val, y_val)\n",
    "\n",
    "# Write model out\n",
    "write(W, $Wout)\n",
    "write(b, $bout)\n",
    "\n",
    "print(\"\")\n",
    "print(\"\")\n",
    "\"\"\"\n",
    "ml.reset()\n",
    "out = ml.executeScript(script, {\"X\": \"examples/data/mnist/train_images.csv\", \n",
    "                                \"y\": \"examples/data/mnist/train_labels.csv\",\n",
    "                                \"X_val\": \"examples/data/mnist/val_images.csv\", \n",
    "                                \"y_val\": \"examples/data/mnist/val_labels.csv\"},\n",
    "                       outputs=[\"W\", \"b\"])"
   ]
  },
  {
   "cell_type": "markdown",
   "metadata": {},
   "source": [
    "### 2. Extract model from SystemML back into PySpark"
   ]
  },
  {
   "cell_type": "code",
   "execution_count": null,
   "metadata": {
    "collapsed": false
   },
   "outputs": [],
   "source": [
    "W = out.getDF(sqlContext, \"W\").sort(\"ID\").drop(\"ID\")\n",
    "b = out.getDF(sqlContext, \"b\").sort(\"ID\").drop(\"ID\")"
   ]
  },
  {
   "cell_type": "markdown",
   "metadata": {},
   "source": [
    "### 3. Compute Test Accuracy"
   ]
  },
  {
   "cell_type": "code",
   "execution_count": null,
   "metadata": {
    "collapsed": false
   },
   "outputs": [],
   "source": [
    "script = \"\"\"\n",
    "source(\"examples/mnist_softmax.dml\") as mnist_softmax\n",
    "\n",
    "# Read data & coefficients\n",
    "X_test = read($X_test, format=\"csv\")\n",
    "y_test = read($y_test, format=\"csv\")\n",
    "W = read($W)\n",
    "b = read($b)\n",
    "\n",
    "# Eval on test set\n",
    "[loss, accuracy] = mnist_softmax::eval(X_test, y_test, W, b)\n",
    "\n",
    "print(\"Accuracy: \" + accuracy)\n",
    "\n",
    "print(\"\")\n",
    "print(\"\")\n",
    "\"\"\"\n",
    "ml.reset()\n",
    "out = ml.executeScript(script, {\"X_test\": \"examples/data/mnist/test_images.csv\",\n",
    "                                \"y_test\": \"examples/data/mnist/test_labels.csv\",\n",
    "                                \"W\": W, \"b\": b})"
   ]
  }
 ],
 "metadata": {
  "kernelspec": {
   "display_name": "Python 2",
   "language": "python",
   "name": "python2"
  },
  "language_info": {
   "codemirror_mode": {
    "name": "ipython",
    "version": 2
   },
   "file_extension": ".py",
   "mimetype": "text/x-python",
   "name": "python",
   "nbconvert_exporter": "python",
   "pygments_lexer": "ipython2",
   "version": "2.7.11"
  }
 },
 "nbformat": 4,
 "nbformat_minor": 0
}
